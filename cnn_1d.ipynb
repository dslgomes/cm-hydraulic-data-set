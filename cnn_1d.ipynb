{
  "nbformat": 4,
  "nbformat_minor": 0,
  "metadata": {
    "colab": {
      "name": "cnn-1d.ipynb",
      "provenance": [],
      "collapsed_sections": [],
      "authorship_tag": "ABX9TyOsl3Rwe3Py+yk8mThRBLlm",
      "include_colab_link": true
    },
    "kernelspec": {
      "name": "python3",
      "display_name": "Python 3"
    }
  },
  "cells": [
    {
      "cell_type": "markdown",
      "metadata": {
        "id": "view-in-github",
        "colab_type": "text"
      },
      "source": [
        "<a href=\"https://colab.research.google.com/github/luishpinto/cm-hydraulic-data-set/blob/master/cnn_1d.ipynb\" target=\"_parent\"><img src=\"https://colab.research.google.com/assets/colab-badge.svg\" alt=\"Open In Colab\"/></a>"
      ]
    },
    {
      "cell_type": "code",
      "metadata": {
        "id": "UaYJBXwT9xxQ",
        "colab_type": "code",
        "colab": {}
      },
      "source": [
        "import os.path\n",
        "\n",
        "if not os.path.exists('TS1.txt'):\n",
        "  !wget -O 'TS1.txt' 'https://github.com/luishpinto/cm-hydraulic-data-set/raw/master/TS1.txt'\n",
        "\n",
        "if not os.path.exists('TS2.txt'):\n",
        "  !wget -O 'TS2.txt' 'https://github.com/luishpinto/cm-hydraulic-data-set/raw/master/TS2.txt'\n",
        "\n",
        "if not os.path.exists('TS3.txt'):\n",
        "  !wget -O 'TS3.txt' 'https://github.com/luishpinto/cm-hydraulic-data-set/raw/master/TS3.txt'\n",
        "\n",
        "if not os.path.exists('TS4.txt'):\n",
        "  !wget -O 'TS4.txt' 'https://github.com/luishpinto/cm-hydraulic-data-set/raw/master/TS4.txt'\n",
        "\n",
        "if not os.path.exists('profile.txt'):\n",
        "  !wget -O 'profile.txt' 'https://github.com/luishpinto/cm-hydraulic-data-set/raw/master/profile.txt'\n"
      ],
      "execution_count": 0,
      "outputs": []
    },
    {
      "cell_type": "code",
      "metadata": {
        "id": "OUUiUNcf_bmY",
        "colab_type": "code",
        "colab": {}
      },
      "source": [
        "import numpy as np\n",
        "import pandas as pd\n",
        "import matplotlib.pyplot as plt"
      ],
      "execution_count": 0,
      "outputs": []
    },
    {
      "cell_type": "code",
      "metadata": {
        "id": "jnYbLCKYHTVW",
        "colab_type": "code",
        "colab": {}
      },
      "source": [
        "import matplotlib\n",
        "matplotlib.rcParams['mathtext.fontset'] = 'stix'\n",
        "matplotlib.rcParams['font.family'] = 'sans-serif'\n",
        "matplotlib.rcParams['font.size'] = 12"
      ],
      "execution_count": 0,
      "outputs": []
    },
    {
      "cell_type": "code",
      "metadata": {
        "id": "iFA5iFwoCUBc",
        "colab_type": "code",
        "colab": {}
      },
      "source": [
        "from sklearn.metrics import accuracy_score, confusion_matrix, classification_report\n",
        "from sklearn.model_selection import train_test_split"
      ],
      "execution_count": 0,
      "outputs": []
    },
    {
      "cell_type": "code",
      "metadata": {
        "id": "8eQH70bCCW44",
        "colab_type": "code",
        "colab": {}
      },
      "source": [
        "%tensorflow_version 1.x\n",
        "from tensorflow.keras.models import *\n",
        "from tensorflow.keras.layers import *\n",
        "from tensorflow.keras.utils import *"
      ],
      "execution_count": 0,
      "outputs": []
    },
    {
      "cell_type": "code",
      "metadata": {
        "id": "9Gr6__RTBYuM",
        "colab_type": "code",
        "colab": {}
      },
      "source": [
        "def normalize(df):\n",
        "  return (df - df.mean(axis = 0)) / df.std(axis = 0)"
      ],
      "execution_count": 0,
      "outputs": []
    },
    {
      "cell_type": "code",
      "metadata": {
        "id": "XxrvLd7GFjf1",
        "colab_type": "code",
        "colab": {}
      },
      "source": [
        "def plotConfusionMatrix(dtrue,dpred,classes,\\\n",
        "                        cmap = plt.cm.Blues,bsize = 1.0):\n",
        "  \n",
        "  cm = confusion_matrix(dtrue,dpred,normalize = 'true')\n",
        "  \n",
        "  fig,ax = plt.subplots(figsize = (np.shape(classes)[0] * 1.25 * bsize,\\\n",
        "                                   np.shape(classes)[0] * 1.25 * bsize))\n",
        "  im = ax.imshow(cm,interpolation = 'nearest',cmap = cmap)\n",
        "  \n",
        "  ax.set(xticks = np.arange(cm.shape[1]),\n",
        "         yticks = np.arange(cm.shape[0]),\n",
        "         xticklabels = classes,\n",
        "         yticklabels = classes,\n",
        "         ylabel = 'True Efficiency',\n",
        "         xlabel = 'Predicted Efficiency')\n",
        "  \n",
        "  plt.setp(ax.get_xticklabels(),rotation = 90,ha = 'right',\n",
        "           rotation_mode = 'anchor')\n",
        "\n",
        "  fmt = '.2f'\n",
        "\n",
        "  thresh = cm.max() / 2.0\n",
        "  \n",
        "  for i in range(cm.shape[0]):\n",
        "    for j in range(cm.shape[1]):\n",
        "      ax.text(j,i,format(cm[i,j],fmt),ha = 'center',va = 'center',\n",
        "              color = 'white' if cm[i,j] > thresh else 'black')\n",
        "      \n",
        "  fig.tight_layout()\n",
        "  \n",
        "  return ax"
      ],
      "execution_count": 0,
      "outputs": []
    },
    {
      "cell_type": "code",
      "metadata": {
        "id": "aUffLG9U_jbE",
        "colab_type": "code",
        "outputId": "7d9c8cc4-bd27-4369-a8ce-82dbcf1f7e8d",
        "colab": {
          "base_uri": "https://localhost:8080/",
          "height": 34
        }
      },
      "source": [
        "label = pd.read_csv('profile.txt',sep = '\\t',header = None)\n",
        "label = to_categorical(label[0].factorize()[0])\n",
        "\n",
        "print('Label shape = {}'.format(label.shape))"
      ],
      "execution_count": 26,
      "outputs": [
        {
          "output_type": "stream",
          "text": [
            "Label shape = (2205, 3)\n"
          ],
          "name": "stdout"
        }
      ]
    },
    {
      "cell_type": "code",
      "metadata": {
        "id": "4sZq_xQN_s4n",
        "colab_type": "code",
        "outputId": "304c65d2-495d-4386-cbfb-bba72ecb249e",
        "colab": {
          "base_uri": "https://localhost:8080/",
          "height": 34
        }
      },
      "source": [
        "data = ['TS1.txt','TS2.txt','TS3.txt','TS4.txt']\n",
        "\n",
        "df = pd.DataFrame()\n",
        "\n",
        "for i in data:\n",
        "  df = df.append(pd.read_csv(i,sep = '\\t',header = None))\n",
        "\n",
        "df = df.apply(normalize)\n",
        "df = df.sort_index().values.reshape(-1,4,60).transpose(0,2,1)\n",
        "\n",
        "print('DataFrame shape = {}'.format(df.shape))"
      ],
      "execution_count": 27,
      "outputs": [
        {
          "output_type": "stream",
          "text": [
            "DataFrame shape = (2205, 60, 4)\n"
          ],
          "name": "stdout"
        }
      ]
    },
    {
      "cell_type": "code",
      "metadata": {
        "id": "EWnoZnmBoJ3f",
        "colab_type": "code",
        "outputId": "18367bac-6602-43ca-9f62-a9a579fc69a7",
        "colab": {
          "base_uri": "https://localhost:8080/",
          "height": 293
        }
      },
      "source": [
        "matplotlib.rcParams['font.size'] = 10\n",
        "\n",
        "plt.subplots(1,2,figsize = (9.0,4.5),sharex = True)\n",
        "for i in range(2):\n",
        "  plt.subplot(1,2,(i + 1))\n",
        "  plt.plot(df[0][:,i],color = 'black',lw = 2.50)\n",
        "  plt.legend(['TS' + str(i + 1)],frameon = False,loc = 'lower right')\n",
        "plt.savefig('fig-1.ps',dpi = 300,format = 'ps')\n",
        "plt.show()"
      ],
      "execution_count": 28,
      "outputs": [
        {
          "output_type": "display_data",
          "data": {
            "image/png": "[encoded data removed]",
            "text/plain": [
              "<Figure size 648x324 with 2 Axes>"
            ]
          },
          "metadata": {
            "tags": []
          }
        }
      ]
    },
    {
      "cell_type": "code",
      "metadata": {
        "id": "jx6BmIS9ypUq",
        "colab_type": "code",
        "colab": {}
      },
      "source": [
        "xtrain,xtest,ytrain,ytest = train_test_split(df,label,\\\n",
        "                                             random_state = 42,\\\n",
        "                                             test_size = 0.2)"
      ],
      "execution_count": 0,
      "outputs": []
    },
    {
      "cell_type": "code",
      "metadata": {
        "id": "OOaVh8cfy38x",
        "colab_type": "code",
        "outputId": "6bdfffa2-c7f9-4d2c-9fbb-39ccf481100d",
        "colab": {
          "base_uri": "https://localhost:8080/",
          "height": 442
        }
      },
      "source": [
        "periods,sensors = 60,4\n",
        "\n",
        "mdl = Sequential()\n",
        "mdl.add(Conv1D(100,6,activation = 'relu',\\\n",
        "               input_shape = (periods,sensors)))\n",
        "mdl.add(Conv1D(100,6,activation = 'relu'))\n",
        "mdl.add(MaxPooling1D(3))\n",
        "mdl.add(Conv1D(160,6,activation = 'relu'))\n",
        "mdl.add(Conv1D(160,6,activation = 'relu'))\n",
        "mdl.add(GlobalAveragePooling1D())\n",
        "mdl.add(Dropout(0.5))\n",
        "mdl.add(Dense(3,activation = 'softmax'))\n",
        "\n",
        "print(mdl.summary())"
      ],
      "execution_count": 30,
      "outputs": [
        {
          "output_type": "stream",
          "text": [
            "Model: \"sequential_1\"\n",
            "_________________________________________________________________\n",
            "Layer (type)                 Output Shape              Param #   \n",
            "=================================================================\n",
            "conv1d_4 (Conv1D)            (None, 55, 100)           2500      \n",
            "_________________________________________________________________\n",
            "conv1d_5 (Conv1D)            (None, 50, 100)           60100     \n",
            "_________________________________________________________________\n",
            "max_pooling1d_1 (MaxPooling1 (None, 16, 100)           0         \n",
            "_________________________________________________________________\n",
            "conv1d_6 (Conv1D)            (None, 11, 160)           96160     \n",
            "_________________________________________________________________\n",
            "conv1d_7 (Conv1D)            (None, 6, 160)            153760    \n",
            "_________________________________________________________________\n",
            "global_average_pooling1d_1 ( (None, 160)               0         \n",
            "_________________________________________________________________\n",
            "dropout_1 (Dropout)          (None, 160)               0         \n",
            "_________________________________________________________________\n",
            "dense_1 (Dense)              (None, 3)                 483       \n",
            "=================================================================\n",
            "Total params: 313,003\n",
            "Trainable params: 313,003\n",
            "Non-trainable params: 0\n",
            "_________________________________________________________________\n",
            "None\n"
          ],
          "name": "stdout"
        }
      ]
    },
    {
      "cell_type": "code",
      "metadata": {
        "id": "WIIwwfovugAF",
        "colab_type": "code",
        "colab": {}
      },
      "source": [
        "mdl.compile(loss = 'categorical_crossentropy',\\\n",
        "            optimizer = 'adam',metrics = ['accuracy'])"
      ],
      "execution_count": 0,
      "outputs": []
    },
    {
      "cell_type": "code",
      "metadata": {
        "id": "JOu7Kwe70Lta",
        "colab_type": "code",
        "colab": {}
      },
      "source": [
        "batch,epoch = 32,25\n",
        "\n",
        "hist = mdl.fit(xtrain,ytrain,batch_size = batch,\\\n",
        "               epochs = epoch,validation_split = 0.2,verbose = 0)"
      ],
      "execution_count": 0,
      "outputs": []
    },
    {
      "cell_type": "code",
      "metadata": {
        "id": "F8Z9FQQeunvS",
        "colab_type": "code",
        "outputId": "6cc598ab-5c94-4d71-e98d-74cc34db22e8",
        "colab": {
          "base_uri": "https://localhost:8080/",
          "height": 323
        }
      },
      "source": [
        "matplotlib.rcParams['font.size'] = 10\n",
        "\n",
        "plt.subplots(1,2,figsize = (9.0,4.5),sharex = True)\n",
        "plt.subplot(1,2,1)\n",
        "plt.plot(hist.epoch,hist.history['acc'],\\\n",
        "         color = 'black',lw = 2.50)\n",
        "plt.title('1D-CNN Accuracy')\n",
        "plt.xlabel('Epoch')\n",
        "plt.subplot(1,2,2)\n",
        "plt.plot(hist.epoch,hist.history['loss'],\\\n",
        "         color = 'black',lw = 2.50)\n",
        "plt.title('1D-CNN Loss')\n",
        "plt.xlabel('Epoch')\n",
        "#plt.tight_layout()\n",
        "plt.savefig('fig-3.ps',dpi = 300,format = 'ps')\n",
        "plt.show()"
      ],
      "execution_count": 33,
      "outputs": [
        {
          "output_type": "display_data",
          "data": {
            "image/png": "[encoded data removed]",
            "text/plain": [
              "<Figure size 648x324 with 2 Axes>"
            ]
          },
          "metadata": {
            "tags": []
          }
        }
      ]
    },
    {
      "cell_type": "code",
      "metadata": {
        "id": "QFlS4HkB0nJB",
        "colab_type": "code",
        "outputId": "038fb9f7-2ec3-4414-e15d-f11ef031d3a7",
        "colab": {
          "base_uri": "https://localhost:8080/",
          "height": 51
        }
      },
      "source": [
        "print(mdl.evaluate(xtest,ytest,verbose = 2))"
      ],
      "execution_count": 34,
      "outputs": [
        {
          "output_type": "stream",
          "text": [
            "441/441 - 0s - loss: 0.1751 - acc: 0.9909\n",
            "[0.17507606025050287, 0.9909297]\n"
          ],
          "name": "stdout"
        }
      ]
    },
    {
      "cell_type": "code",
      "metadata": {
        "id": "txC_J4nx0wQv",
        "colab_type": "code",
        "outputId": "bc848bcf-1695-4685-cbfe-4b568d246bc6",
        "colab": {
          "base_uri": "https://localhost:8080/",
          "height": 187
        }
      },
      "source": [
        "print(classification_report(np.where(ytest != 0)[1],\\\n",
        "                            mdl.predict_classes(xtest)))"
      ],
      "execution_count": 35,
      "outputs": [
        {
          "output_type": "stream",
          "text": [
            "              precision    recall  f1-score   support\n",
            "\n",
            "           0       1.00      0.99      0.99       152\n",
            "           1       0.97      1.00      0.99       135\n",
            "           2       1.00      0.99      0.99       154\n",
            "\n",
            "    accuracy                           0.99       441\n",
            "   macro avg       0.99      0.99      0.99       441\n",
            "weighted avg       0.99      0.99      0.99       441\n",
            "\n"
          ],
          "name": "stdout"
        }
      ]
    },
    {
      "cell_type": "code",
      "metadata": {
        "id": "kzCXPDu5KrOD",
        "colab_type": "code",
        "outputId": "098395b4-509b-4c96-a4dd-3b0ea275c186",
        "colab": {
          "base_uri": "https://localhost:8080/",
          "height": 347
        }
      },
      "source": [
        "matplotlib.rcParams['font.size'] = 10\n",
        "\n",
        "plotConfusionMatrix(np.argmax(ytest,axis = 1),\\\n",
        "                    np.argmax(mdl.predict(xtest),axis = 1),\\\n",
        "                    ['< 3%','< 20%','= 100%'],\\\n",
        "                    bsize = 1.25)\n",
        "plt.savefig('fig-4.ps',dpi = 300,format = 'ps')\n",
        "plt.show()"
      ],
      "execution_count": 36,
      "outputs": [
        {
          "output_type": "display_data",
          "data": {
            "image/png": "[encoded data removed]",
            "text/plain": [
              "<Figure size 337.5x337.5 with 1 Axes>"
            ]
          },
          "metadata": {
            "tags": []
          }
        }
      ]
    }
  ]
}