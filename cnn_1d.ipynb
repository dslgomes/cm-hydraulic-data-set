{
  "nbformat": 4,
  "nbformat_minor": 0,
  "metadata": {
    "colab": {
      "name": "cnn-1d.ipynb",
      "provenance": [],
      "collapsed_sections": [],
      "authorship_tag": "ABX9TyM3V5YFr3gvZUZkcUimmDey",
      "include_colab_link": true
    },
    "kernelspec": {
      "name": "python3",
      "display_name": "Python 3"
    }
  },
  "cells": [
    {
      "cell_type": "markdown",
      "metadata": {
        "id": "view-in-github",
        "colab_type": "text"
      },
      "source": [
        "<a href=\"https://colab.research.google.com/github/luishpinto/cm-hydraulic-data-set/blob/master/cnn_1d.ipynb\" target=\"_parent\"><img src=\"https://colab.research.google.com/assets/colab-badge.svg\" alt=\"Open In Colab\"/></a>"
      ]
    },
    {
      "cell_type": "code",
      "metadata": {
        "id": "UaYJBXwT9xxQ",
        "colab_type": "code",
        "colab": {
          "base_uri": "https://localhost:8080/",
          "height": 1000
        },
        "outputId": "c10e9983-c201-48e2-ee4f-ebc17387e9db"
      },
      "source": [
        "import os.path\n",
        "\n",
        "if not os.path.exists('TS1.txt'):\n",
        "  !wget -O 'TS1.txt' 'https://github.com/luishpinto/cm-hydraulic-data-set/raw/master/TS1.txt'\n",
        "\n",
        "if not os.path.exists('TS2.txt'):\n",
        "  !wget -O 'TS2.txt' 'https://github.com/luishpinto/cm-hydraulic-data-set/raw/master/TS2.txt'\n",
        "\n",
        "if not os.path.exists('TS3.txt'):\n",
        "  !wget -O 'TS3.txt' 'https://github.com/luishpinto/cm-hydraulic-data-set/raw/master/TS3.txt'\n",
        "\n",
        "if not os.path.exists('TS4.txt'):\n",
        "  !wget -O 'TS4.txt' 'https://github.com/luishpinto/cm-hydraulic-data-set/raw/master/TS4.txt'\n",
        "\n",
        "if not os.path.exists('profile.txt'):\n",
        "  !wget -O 'profile.txt' 'https://github.com/luishpinto/cm-hydraulic-data-set/raw/master/profile.txt'\n"
      ],
      "execution_count": 1,
      "outputs": [
        {
          "output_type": "stream",
          "text": [
            "--2020-02-04 19:03:15--  https://github.com/luishpinto/cm-hydraulic-data-set/raw/master/TS1.txt\n",
            "Resolving github.com (github.com)... 140.82.113.3\n",
            "Connecting to github.com (github.com)|140.82.113.3|:443... connected.\n",
            "HTTP request sent, awaiting response... 302 Found\n",
            "Location: https://raw.githubusercontent.com/luishpinto/cm-hydraulic-data-set/master/TS1.txt [following]\n",
            "--2020-02-04 19:03:21--  https://raw.githubusercontent.com/luishpinto/cm-hydraulic-data-set/master/TS1.txt\n",
            "Resolving raw.githubusercontent.com (raw.githubusercontent.com)... 151.101.0.133, 151.101.64.133, 151.101.128.133, ...\n",
            "Connecting to raw.githubusercontent.com (raw.githubusercontent.com)|151.101.0.133|:443... connected.\n",
            "HTTP request sent, awaiting response... 200 OK\n",
            "Length: 904586 (883K) [text/plain]\n",
            "Saving to: ‘TS1.txt’\n",
            "\n",
            "TS1.txt             100%[===================>] 883.38K  --.-KB/s    in 0.08s   \n",
            "\n",
            "2020-02-04 19:03:22 (10.2 MB/s) - ‘TS1.txt’ saved [904586/904586]\n",
            "\n",
            "--2020-02-04 19:03:24--  https://github.com/luishpinto/cm-hydraulic-data-set/raw/master/TS2.txt\n",
            "Resolving github.com (github.com)... 140.82.113.3\n",
            "Connecting to github.com (github.com)|140.82.113.3|:443... connected.\n",
            "HTTP request sent, awaiting response... 302 Found\n",
            "Location: https://raw.githubusercontent.com/luishpinto/cm-hydraulic-data-set/master/TS2.txt [following]\n",
            "--2020-02-04 19:03:25--  https://raw.githubusercontent.com/luishpinto/cm-hydraulic-data-set/master/TS2.txt\n",
            "Resolving raw.githubusercontent.com (raw.githubusercontent.com)... 151.101.0.133, 151.101.64.133, 151.101.128.133, ...\n",
            "Connecting to raw.githubusercontent.com (raw.githubusercontent.com)|151.101.0.133|:443... connected.\n",
            "HTTP request sent, awaiting response... 200 OK\n",
            "Length: 910594 (889K) [text/plain]\n",
            "Saving to: ‘TS2.txt’\n",
            "\n",
            "TS2.txt             100%[===================>] 889.25K  --.-KB/s    in 0.1s    \n",
            "\n",
            "2020-02-04 19:03:25 (7.21 MB/s) - ‘TS2.txt’ saved [910594/910594]\n",
            "\n",
            "--2020-02-04 19:03:27--  https://github.com/luishpinto/cm-hydraulic-data-set/raw/master/TS3.txt\n",
            "Resolving github.com (github.com)... 140.82.113.3\n",
            "Connecting to github.com (github.com)|140.82.113.3|:443... connected.\n",
            "HTTP request sent, awaiting response... 302 Found\n",
            "Location: https://raw.githubusercontent.com/luishpinto/cm-hydraulic-data-set/master/TS3.txt [following]\n",
            "--2020-02-04 19:03:28--  https://raw.githubusercontent.com/luishpinto/cm-hydraulic-data-set/master/TS3.txt\n",
            "Resolving raw.githubusercontent.com (raw.githubusercontent.com)... 151.101.0.133, 151.101.64.133, 151.101.128.133, ...\n",
            "Connecting to raw.githubusercontent.com (raw.githubusercontent.com)|151.101.0.133|:443... connected.\n",
            "HTTP request sent, awaiting response... 200 OK\n",
            "Length: 908805 (888K) [text/plain]\n",
            "Saving to: ‘TS3.txt’\n",
            "\n",
            "TS3.txt             100%[===================>] 887.50K  --.-KB/s    in 0.07s   \n",
            "\n",
            "2020-02-04 19:03:29 (11.7 MB/s) - ‘TS3.txt’ saved [908805/908805]\n",
            "\n",
            "--2020-02-04 19:03:31--  https://github.com/luishpinto/cm-hydraulic-data-set/raw/master/TS4.txt\n",
            "Resolving github.com (github.com)... 140.82.113.3\n",
            "Connecting to github.com (github.com)|140.82.113.3|:443... connected.\n",
            "HTTP request sent, awaiting response... 302 Found\n",
            "Location: https://raw.githubusercontent.com/luishpinto/cm-hydraulic-data-set/master/TS4.txt [following]\n",
            "--2020-02-04 19:03:32--  https://raw.githubusercontent.com/luishpinto/cm-hydraulic-data-set/master/TS4.txt\n",
            "Resolving raw.githubusercontent.com (raw.githubusercontent.com)... 151.101.0.133, 151.101.64.133, 151.101.128.133, ...\n",
            "Connecting to raw.githubusercontent.com (raw.githubusercontent.com)|151.101.0.133|:443... connected.\n",
            "HTTP request sent, awaiting response... 200 OK\n",
            "Length: 910127 (889K) [text/plain]\n",
            "Saving to: ‘TS4.txt’\n",
            "\n",
            "TS4.txt             100%[===================>] 888.80K  --.-KB/s    in 0.1s    \n",
            "\n",
            "2020-02-04 19:03:32 (7.07 MB/s) - ‘TS4.txt’ saved [910127/910127]\n",
            "\n",
            "--2020-02-04 19:03:34--  https://github.com/luishpinto/cm-hydraulic-data-set/raw/master/profile.txt\n",
            "Resolving github.com (github.com)... 140.82.113.3\n",
            "Connecting to github.com (github.com)|140.82.113.3|:443... connected.\n",
            "HTTP request sent, awaiting response... 302 Found\n",
            "Location: https://raw.githubusercontent.com/luishpinto/cm-hydraulic-data-set/master/profile.txt [following]\n",
            "--2020-02-04 19:03:35--  https://raw.githubusercontent.com/luishpinto/cm-hydraulic-data-set/master/profile.txt\n",
            "Resolving raw.githubusercontent.com (raw.githubusercontent.com)... 151.101.0.133, 151.101.64.133, 151.101.128.133, ...\n",
            "Connecting to raw.githubusercontent.com (raw.githubusercontent.com)|151.101.0.133|:443... connected.\n",
            "HTTP request sent, awaiting response... 200 OK\n",
            "Length: 31196 (30K) [text/plain]\n",
            "Saving to: ‘profile.txt’\n",
            "\n",
            "profile.txt         100%[===================>]  30.46K  --.-KB/s    in 0.01s   \n",
            "\n",
            "2020-02-04 19:03:35 (2.47 MB/s) - ‘profile.txt’ saved [31196/31196]\n",
            "\n"
          ],
          "name": "stdout"
        }
      ]
    },
    {
      "cell_type": "code",
      "metadata": {
        "id": "OUUiUNcf_bmY",
        "colab_type": "code",
        "colab": {}
      },
      "source": [
        "import numpy as np\n",
        "import pandas as pd\n",
        "import matplotlib.pyplot as plt"
      ],
      "execution_count": 0,
      "outputs": []
    },
    {
      "cell_type": "code",
      "metadata": {
        "id": "iFA5iFwoCUBc",
        "colab_type": "code",
        "colab": {}
      },
      "source": [
        "from sklearn.metrics import accuracy_score, confusion_matrix, classification_report\n",
        "from sklearn.model_selection import train_test_split"
      ],
      "execution_count": 0,
      "outputs": []
    },
    {
      "cell_type": "code",
      "metadata": {
        "id": "8eQH70bCCW44",
        "colab_type": "code",
        "colab": {}
      },
      "source": [
        "%tensorflow_version 1.x\n",
        "from tensorflow.keras.models import *\n",
        "from tensorflow.keras.layers import *\n",
        "from tensorflow.keras.utils import *"
      ],
      "execution_count": 0,
      "outputs": []
    },
    {
      "cell_type": "code",
      "metadata": {
        "id": "9Gr6__RTBYuM",
        "colab_type": "code",
        "colab": {}
      },
      "source": [
        "def normalize(df):\n",
        "  return (df - df.mean(axis = 0)) / df.std(axis = 0)"
      ],
      "execution_count": 0,
      "outputs": []
    },
    {
      "cell_type": "code",
      "metadata": {
        "id": "aUffLG9U_jbE",
        "colab_type": "code",
        "colab": {}
      },
      "source": [
        "label = pd.read_csv('profile.txt',sep = '\\t',header = None)"
      ],
      "execution_count": 0,
      "outputs": []
    },
    {
      "cell_type": "code",
      "metadata": {
        "id": "4sZq_xQN_s4n",
        "colab_type": "code",
        "colab": {}
      },
      "source": [
        "data = ['TS1.txt','TS2.txt','TS3.txt','TS4.txt']\n",
        "\n",
        "df = pd.DataFrame()\n",
        "\n",
        "for i in data:\n",
        "  df = df.append(pd.read_csv(i,sep = '\\t',header = None))"
      ],
      "execution_count": 0,
      "outputs": []
    },
    {
      "cell_type": "code",
      "metadata": {
        "id": "3-nUkyjm50a3",
        "colab_type": "code",
        "colab": {}
      },
      "source": [
        "df = df.apply(normalize)"
      ],
      "execution_count": 0,
      "outputs": []
    },
    {
      "cell_type": "code",
      "metadata": {
        "id": "tLPzjpS1BUYK",
        "colab_type": "code",
        "colab": {
          "base_uri": "https://localhost:8080/",
          "height": 265
        },
        "outputId": "5782d6e4-4ce2-4e05-e22a-c58331585410"
      },
      "source": [
        "df.loc[0,:].T.plot(legend = None,color = 'black',linewidth = 0.75)\n",
        "plt.show()"
      ],
      "execution_count": 9,
      "outputs": [
        {
          "output_type": "display_data",
          "data": {
            "image/png": "[encoded data removed]",
            "text/plain": [
              "<Figure size 432x288 with 1 Axes>"
            ]
          },
          "metadata": {
            "tags": []
          }
        }
      ]
    },
    {
      "cell_type": "code",
      "metadata": {
        "id": "lsZNMoe9Bz2l",
        "colab_type": "code",
        "colab": {}
      },
      "source": [
        "df = df.sort_index().values.reshape(-1,4,60).transpose(0,2,1)"
      ],
      "execution_count": 0,
      "outputs": []
    },
    {
      "cell_type": "code",
      "metadata": {
        "id": "0maJIyjVB9w6",
        "colab_type": "code",
        "colab": {}
      },
      "source": [
        "label = to_categorical(label[0].factorize()[0])"
      ],
      "execution_count": 0,
      "outputs": []
    },
    {
      "cell_type": "code",
      "metadata": {
        "id": "GoGScZo0gnxm",
        "colab_type": "code",
        "colab": {
          "base_uri": "https://localhost:8080/",
          "height": 51
        },
        "outputId": "e840f106-26db-468b-cb72-f21069ed6fb5"
      },
      "source": [
        "print('DataFrame shape = {}'.format(df.shape))\n",
        "print('Label shape = {}'.format(label.shape))"
      ],
      "execution_count": 12,
      "outputs": [
        {
          "output_type": "stream",
          "text": [
            "DataFrame shape = (2205, 60, 4)\n",
            "Label shape = (2205, 3)\n"
          ],
          "name": "stdout"
        }
      ]
    },
    {
      "cell_type": "code",
      "metadata": {
        "id": "jx6BmIS9ypUq",
        "colab_type": "code",
        "colab": {}
      },
      "source": [
        "xtrain,xtest,ytrain,ytest = train_test_split(df,label,random_state = 42,test_size = 0.2)"
      ],
      "execution_count": 0,
      "outputs": []
    },
    {
      "cell_type": "code",
      "metadata": {
        "id": "OOaVh8cfy38x",
        "colab_type": "code",
        "colab": {
          "base_uri": "https://localhost:8080/",
          "height": 442
        },
        "outputId": "644d6920-38f8-4704-efb2-e82c2e0c8a8f"
      },
      "source": [
        "sensor = 4\n",
        "period = 60\n",
        "\n",
        "mdl = Sequential()\n",
        "mdl.add(Conv1D(100,6,activation = 'relu',input_shape = (period,sensor)))\n",
        "mdl.add(Conv1D(100,6,activation = 'relu'))\n",
        "mdl.add(MaxPooling1D(3))\n",
        "mdl.add(Conv1D(160,6,activation = 'relu'))\n",
        "mdl.add(Conv1D(160,6,activation = 'relu'))\n",
        "mdl.add(GlobalAveragePooling1D())\n",
        "mdl.add(Dropout(0.5))\n",
        "mdl.add(Dense(3,activation = 'softmax'))\n",
        "\n",
        "print(mdl.summary())\n",
        "\n",
        "mdl.compile(loss = 'categorical_crossentropy',optimizer = 'adam',metrics = ['accuracy'])"
      ],
      "execution_count": 19,
      "outputs": [
        {
          "output_type": "stream",
          "text": [
            "Model: \"sequential_1\"\n",
            "_________________________________________________________________\n",
            "Layer (type)                 Output Shape              Param #   \n",
            "=================================================================\n",
            "conv1d_4 (Conv1D)            (None, 55, 100)           2500      \n",
            "_________________________________________________________________\n",
            "conv1d_5 (Conv1D)            (None, 50, 100)           60100     \n",
            "_________________________________________________________________\n",
            "max_pooling1d_1 (MaxPooling1 (None, 16, 100)           0         \n",
            "_________________________________________________________________\n",
            "conv1d_6 (Conv1D)            (None, 11, 160)           96160     \n",
            "_________________________________________________________________\n",
            "conv1d_7 (Conv1D)            (None, 6, 160)            153760    \n",
            "_________________________________________________________________\n",
            "global_average_pooling1d_1 ( (None, 160)               0         \n",
            "_________________________________________________________________\n",
            "dropout_1 (Dropout)          (None, 160)               0         \n",
            "_________________________________________________________________\n",
            "dense_1 (Dense)              (None, 3)                 483       \n",
            "=================================================================\n",
            "Total params: 313,003\n",
            "Trainable params: 313,003\n",
            "Non-trainable params: 0\n",
            "_________________________________________________________________\n",
            "None\n"
          ],
          "name": "stdout"
        }
      ]
    },
    {
      "cell_type": "code",
      "metadata": {
        "id": "JOu7Kwe70Lta",
        "colab_type": "code",
        "colab": {}
      },
      "source": [
        "batch = 16\n",
        "epoch = 10\n",
        "\n",
        "hist = mdl.fit(xtrain,ytrain,batch_size = batch,epochs = epoch,validation_split = 0.2,verbose = 0)"
      ],
      "execution_count": 0,
      "outputs": []
    },
    {
      "cell_type": "code",
      "metadata": {
        "id": "QFlS4HkB0nJB",
        "colab_type": "code",
        "colab": {
          "base_uri": "https://localhost:8080/",
          "height": 51
        },
        "outputId": "7bc8e591-bf50-4817-f91f-638d44e8699c"
      },
      "source": [
        "print(mdl.evaluate(xtest,ytest,verbose = 2))"
      ],
      "execution_count": 16,
      "outputs": [
        {
          "output_type": "stream",
          "text": [
            "441/441 - 0s - loss: 0.1798 - acc: 0.9796\n",
            "[0.17978598431698858, 0.97959185]\n"
          ],
          "name": "stdout"
        }
      ]
    },
    {
      "cell_type": "code",
      "metadata": {
        "id": "txC_J4nx0wQv",
        "colab_type": "code",
        "colab": {
          "base_uri": "https://localhost:8080/",
          "height": 187
        },
        "outputId": "8b757c2e-030b-46e1-dd35-a14f46eb73b3"
      },
      "source": [
        "print(classification_report(np.where(ytest != 0)[1],mdl.predict_classes(xtest)))"
      ],
      "execution_count": 17,
      "outputs": [
        {
          "output_type": "stream",
          "text": [
            "              precision    recall  f1-score   support\n",
            "\n",
            "           0       0.98      0.99      0.98       152\n",
            "           1       0.96      0.98      0.97       135\n",
            "           2       1.00      0.97      0.99       154\n",
            "\n",
            "    accuracy                           0.98       441\n",
            "   macro avg       0.98      0.98      0.98       441\n",
            "weighted avg       0.98      0.98      0.98       441\n",
            "\n"
          ],
          "name": "stdout"
        }
      ]
    },
    {
      "cell_type": "code",
      "metadata": {
        "id": "ytG_VQjK4DBv",
        "colab_type": "code",
        "colab": {
          "base_uri": "https://localhost:8080/",
          "height": 68
        },
        "outputId": "a9bcf1ed-78d0-40d4-fee8-3f7c47123c78"
      },
      "source": [
        "print(confusion_matrix(np.where(ytest != 0)[1],mdl.predict_classes(xtest),normalize = 'true'))"
      ],
      "execution_count": 18,
      "outputs": [
        {
          "output_type": "stream",
          "text": [
            "[[0.98684211 0.01315789 0.        ]\n",
            " [0.02222222 0.97777778 0.        ]\n",
            " [0.         0.02597403 0.97402597]]\n"
          ],
          "name": "stdout"
        }
      ]
    }
  ]
}